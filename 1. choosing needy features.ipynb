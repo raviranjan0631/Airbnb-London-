{
 "cells": [
  {
   "cell_type": "markdown",
   "metadata": {},
   "source": [
    "## Importing important libraires"
   ]
  },
  {
   "cell_type": "code",
   "execution_count": 1,
   "metadata": {},
   "outputs": [],
   "source": [
    "import pandas as pd\n",
    "import numpy as np"
   ]
  },
  {
   "cell_type": "code",
   "execution_count": 171,
   "metadata": {},
   "outputs": [],
   "source": [
    "data = pd.read_csv('./listings.csv')"
   ]
  },
  {
   "cell_type": "code",
   "execution_count": 172,
   "metadata": {},
   "outputs": [
    {
     "data": {
      "text/plain": [
       "(83850, 106)"
      ]
     },
     "execution_count": 172,
     "metadata": {},
     "output_type": "execute_result"
    }
   ],
   "source": [
    "data.shape"
   ]
  },
  {
   "cell_type": "markdown",
   "metadata": {},
   "source": [
    "there are 106 features with 83850 data points"
   ]
  },
  {
   "cell_type": "code",
   "execution_count": 173,
   "metadata": {},
   "outputs": [
    {
     "name": "stdout",
     "output_type": "stream",
     "text": [
      "id\n",
      "listing_url\n",
      "scrape_id\n",
      "last_scraped\n",
      "name\n",
      "summary\n",
      "space\n",
      "description\n",
      "experiences_offered\n",
      "neighborhood_overview\n",
      "notes\n",
      "transit\n",
      "access\n",
      "interaction\n",
      "house_rules\n",
      "thumbnail_url\n",
      "medium_url\n",
      "picture_url\n",
      "xl_picture_url\n",
      "host_id\n",
      "host_url\n",
      "host_name\n",
      "host_since\n",
      "host_location\n",
      "host_about\n",
      "host_response_time\n",
      "host_response_rate\n",
      "host_acceptance_rate\n",
      "host_is_superhost\n",
      "host_thumbnail_url\n",
      "host_picture_url\n",
      "host_neighbourhood\n",
      "host_listings_count\n",
      "host_total_listings_count\n",
      "host_verifications\n",
      "host_has_profile_pic\n",
      "host_identity_verified\n",
      "street\n",
      "neighbourhood\n",
      "neighbourhood_cleansed\n",
      "neighbourhood_group_cleansed\n",
      "city\n",
      "state\n",
      "zipcode\n",
      "market\n",
      "smart_location\n",
      "country_code\n",
      "country\n",
      "latitude\n",
      "longitude\n",
      "is_location_exact\n",
      "property_type\n",
      "room_type\n",
      "accommodates\n",
      "bathrooms\n",
      "bedrooms\n",
      "beds\n",
      "bed_type\n",
      "amenities\n",
      "square_feet\n",
      "price\n",
      "weekly_price\n",
      "monthly_price\n",
      "security_deposit\n",
      "cleaning_fee\n",
      "guests_included\n",
      "extra_people\n",
      "minimum_nights\n",
      "maximum_nights\n",
      "minimum_minimum_nights\n",
      "maximum_minimum_nights\n",
      "minimum_maximum_nights\n",
      "maximum_maximum_nights\n",
      "minimum_nights_avg_ntm\n",
      "maximum_nights_avg_ntm\n",
      "calendar_updated\n",
      "has_availability\n",
      "availability_30\n",
      "availability_60\n",
      "availability_90\n",
      "availability_365\n",
      "calendar_last_scraped\n",
      "number_of_reviews\n",
      "number_of_reviews_ltm\n",
      "first_review\n",
      "last_review\n",
      "review_scores_rating\n",
      "review_scores_accuracy\n",
      "review_scores_cleanliness\n",
      "review_scores_checkin\n",
      "review_scores_communication\n",
      "review_scores_location\n",
      "review_scores_value\n",
      "requires_license\n",
      "license\n",
      "jurisdiction_names\n",
      "instant_bookable\n",
      "is_business_travel_ready\n",
      "cancellation_policy\n",
      "require_guest_profile_picture\n",
      "require_guest_phone_verification\n",
      "calculated_host_listings_count\n",
      "calculated_host_listings_count_entire_homes\n",
      "calculated_host_listings_count_private_rooms\n",
      "calculated_host_listings_count_shared_rooms\n",
      "reviews_per_month\n"
     ]
    }
   ],
   "source": [
    "# let's see the columns in the data\n",
    "for d in data.columns:\n",
    "    print(d)"
   ]
  },
  {
   "cell_type": "code",
   "execution_count": 174,
   "metadata": {},
   "outputs": [
    {
     "data": {
      "text/plain": [
       "(83850, 106)"
      ]
     },
     "execution_count": 174,
     "metadata": {},
     "output_type": "execute_result"
    }
   ],
   "source": [
    "data.shape"
   ]
  },
  {
   "cell_type": "markdown",
   "metadata": {},
   "source": [
    "## Removing features which are not useful"
   ]
  },
  {
   "cell_type": "code",
   "execution_count": 175,
   "metadata": {},
   "outputs": [
    {
     "data": {
      "text/plain": [
       "(83850, 98)"
      ]
     },
     "execution_count": 175,
     "metadata": {},
     "output_type": "execute_result"
    }
   ],
   "source": [
    "data = data.drop(['listing_url', 'thumbnail_url','host_url', 'medium_url', 'picture_url', 'xl_picture_url','host_thumbnail_url', 'host_picture_url' ], axis=1)\n",
    "data.shape"
   ]
  },
  {
   "cell_type": "markdown",
   "metadata": {},
   "source": [
    "##### URL features romoval\n",
    "deleted all the coumns which contains url and drop down the features from 106 to 98. Let's explore more"
   ]
  },
  {
   "cell_type": "code",
   "execution_count": 176,
   "metadata": {},
   "outputs": [
    {
     "data": {
      "text/plain": [
       "(83850, 98)"
      ]
     },
     "execution_count": 176,
     "metadata": {},
     "output_type": "execute_result"
    }
   ],
   "source": [
    "# dropping duplicates if any\n",
    "data=data.drop_duplicates(subset={\"host_id\",\"id\",\"scrape_id\"}, keep='first', inplace=False)\n",
    "data.shape"
   ]
  },
  {
   "cell_type": "code",
   "execution_count": 177,
   "metadata": {},
   "outputs": [
    {
     "data": {
      "text/plain": [
       "(83850, 95)"
      ]
     },
     "execution_count": 177,
     "metadata": {},
     "output_type": "execute_result"
    }
   ],
   "source": [
    "# no duplicates found now dropping all the id columns\n",
    "data = data.drop(['host_id', 'id', 'scrape_id' ], axis=1)\n",
    "data.shape"
   ]
  },
  {
   "cell_type": "code",
   "execution_count": 178,
   "metadata": {},
   "outputs": [
    {
     "data": {
      "text/plain": [
       "(83850, 18)"
      ]
     },
     "execution_count": 178,
     "metadata": {},
     "output_type": "execute_result"
    }
   ],
   "source": [
    "# we need to predict price so removing the irrelevant columns which are not useful\n",
    "data = data.drop([ 'instant_bookable','calendar_last_scraped', 'number_of_reviews','is_location_exact',\n",
    "                  'cancellation_policy','jurisdiction_names', 'name', 'first_review', 'last_review',\n",
    "                  'is_business_travel_ready' ,'license', 'requires_license','require_guest_phone_verification', \n",
    "                  'require_guest_profile_picture','host_name','number_of_reviews_ltm', 'country_code','access','transit', \n",
    "                  'security_deposit', 'experiences_offered', 'host_since', 'host_location', 'host_about','host_response_time',\n",
    "                  'host_response_rate','host_has_profile_pic','host_verifications', 'host_acceptance_rate','host_is_superhost',\n",
    "                  'street', 'house_rules', 'host_neighbourhood', 'host_identity_verified', 'interaction', 'neighbourhood',\n",
    "                  'neighbourhood_cleansed','neighbourhood_group_cleansed','notes', 'host_listings_count', \n",
    "                  'host_total_listings_count', 'neighborhood_overview','review_scores_accuracy', 'review_scores_checkin', \n",
    "                  'review_scores_value','review_scores_location', 'review_scores_value','review_scores_communication', \n",
    "                  'review_scores_cleanliness', 'review_scores_rating','maximum_nights','minimum_minimum_nights',\n",
    "                  'maximum_minimum_nights','minimum_maximum_nights','maximum_maximum_nights','minimum_nights_avg_ntm',\n",
    "                  'maximum_nights_avg_ntm','calendar_updated','has_availability','space','calculated_host_listings_count',\n",
    "                  'calculated_host_listings_count_entire_homes','calculated_host_listings_count_private_rooms',\n",
    "                  'calculated_host_listings_count_shared_rooms', 'city','state','zipcode','market','smart_location','country',\n",
    "                  'amenities', 'last_scraped', 'summary', 'availability_30', 'availability_60', 'availability_90',\n",
    "                  'weekly_price', 'monthly_price'\n",
    "                 ]\n",
    "                 , axis=1)\n",
    "data.shape"
   ]
  },
  {
   "cell_type": "code",
   "execution_count": 179,
   "metadata": {},
   "outputs": [
    {
     "name": "stdout",
     "output_type": "stream",
     "text": [
      "description\n",
      "latitude\n",
      "longitude\n",
      "property_type\n",
      "room_type\n",
      "accommodates\n",
      "bathrooms\n",
      "bedrooms\n",
      "beds\n",
      "bed_type\n",
      "square_feet\n",
      "price\n",
      "cleaning_fee\n",
      "guests_included\n",
      "extra_people\n",
      "minimum_nights\n",
      "availability_365\n",
      "reviews_per_month\n"
     ]
    }
   ],
   "source": [
    "for column in data.columns:\n",
    "    print(column)\n",
    "#      'description','property_type', 'room_type', 'accommodates',\n",
    "#     'bathrooms', 'bedrooms', 'beds', 'square_feet',\n",
    "#     'price', 'cleaning_fee', 'guests_included', 'extra_people', 'minimum_nights',\n",
    "#     'availability_365', 'reviews_per_month', 'latitude', 'longitude', 'bed_type'"
   ]
  },
  {
   "cell_type": "markdown",
   "metadata": {},
   "source": [
    "#### Explanation about these features\n",
    "**description** - for the text mining operations\n",
    "\n",
    "**latitude** - longitude list for the properties\n",
    "\n",
    "**property_type** - list of type of the properties\n",
    "\n",
    "**room_type** - list of type of rooms\n",
    "\n",
    "**accommodates** -number of peoples allowed to stay\n",
    "\n",
    "**bathrooms** - number of bathroom\n",
    "\n",
    "**bedrooms** - number of bedroom\n",
    "\n",
    "**beds** -number of beds in a bedroom\n",
    "\n",
    "**square_feet** - list of area of each buildings\n",
    "\n",
    "**price** - list of price\n",
    "\n",
    "**cleaning_fee** - cleaning fee list \n",
    "\n",
    "**guests_included** - list of number of guest allowed in the property\n",
    "\n",
    "**extra_people** - list of price of extra people in the property\n",
    "\n",
    "**minimum_nights** - list of minimum nights of booking allowed for bookin\n",
    "\n",
    "**reviews_per_month** - Average no. of reviews listing receives per month. Used to calculate yield"
   ]
  },
  {
   "cell_type": "code",
   "execution_count": 180,
   "metadata": {},
   "outputs": [
    {
     "data": {
      "text/plain": [
       "(83850, 18)"
      ]
     },
     "execution_count": 180,
     "metadata": {},
     "output_type": "execute_result"
    }
   ],
   "source": [
    "data.shape"
   ]
  },
  {
   "cell_type": "code",
   "execution_count": 181,
   "metadata": {},
   "outputs": [],
   "source": [
    "dollar_remover = ['cleaning_fee',  'price',  'extra_people']\n",
    "data[dollar_remover] = data[dollar_remover].replace('[\\$,]', '', regex=True)\n",
    "data[dollar_remover] = data[dollar_remover].apply(pd.to_numeric, errors='coerce')"
   ]
  },
  {
   "cell_type": "code",
   "execution_count": 185,
   "metadata": {},
   "outputs": [
    {
     "data": {
      "text/plain": [
       "(83850, 18)"
      ]
     },
     "execution_count": 185,
     "metadata": {},
     "output_type": "execute_result"
    }
   ],
   "source": [
    "data.to_csv('./removed_features.csv',index=False)\n",
    "data.shape"
   ]
  },
  {
   "cell_type": "code",
   "execution_count": null,
   "metadata": {},
   "outputs": [],
   "source": []
  }
 ],
 "metadata": {
  "kernelspec": {
   "display_name": "Python 3",
   "language": "python",
   "name": "python3"
  },
  "language_info": {
   "codemirror_mode": {
    "name": "ipython",
    "version": 3
   },
   "file_extension": ".py",
   "mimetype": "text/x-python",
   "name": "python",
   "nbconvert_exporter": "python",
   "pygments_lexer": "ipython3",
   "version": "3.6.8"
  }
 },
 "nbformat": 4,
 "nbformat_minor": 2
}
